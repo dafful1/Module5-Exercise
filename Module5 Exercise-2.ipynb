{
 "cells": [
  {
   "cell_type": "markdown",
   "metadata": {},
   "source": [
    "1. Round 4.5667 to the nearest hundreth using a build-in function, round()."
   ]
  },
  {
   "cell_type": "code",
   "execution_count": 1,
   "metadata": {},
   "outputs": [
    {
     "name": "stdout",
     "output_type": "stream",
     "text": [
      "4.57\n"
     ]
    }
   ],
   "source": [
    "num = round(4.5667 ,2)\n",
    "print(num)"
   ]
  },
  {
   "cell_type": "markdown",
   "metadata": {},
   "source": [
    "2. Convert \"657\" to an integer data type"
   ]
  },
  {
   "cell_type": "code",
   "execution_count": 2,
   "metadata": {},
   "outputs": [
    {
     "data": {
      "text/plain": [
       "int"
      ]
     },
     "execution_count": 2,
     "metadata": {},
     "output_type": "execute_result"
    }
   ],
   "source": [
    "type(int(\"657\"))"
   ]
  },
  {
   "cell_type": "markdown",
   "metadata": {},
   "source": [
    "3.\n",
    "Write a program to get two numbers from a user. Then, create a secret code where a code consists of 6 numbers and each number is randomly generated number between two numbers from a user. "
   ]
  },
  {
   "cell_type": "code",
   "execution_count": 10,
   "metadata": {},
   "outputs": [
    {
     "name": "stdout",
     "output_type": "stream",
     "text": [
      "Enter a first number: 10\n",
      "Enter a second number: 20\n",
      "Your secret code that has been generated is: 19 17 15 17 12 12\n"
     ]
    }
   ],
   "source": [
    "import random as ran\n",
    "\n",
    "num1 = int(input(\"Enter a first number: \"))\n",
    "num2 = int(input(\"Enter a second number: \"))\n",
    "\n",
    "c1 = ran.randint(num1, num2)\n",
    "c2 = ran.randint(num1, num2)\n",
    "c3 = ran.randint(num1, num2)\n",
    "c4 = ran.randint(num1, num2)\n",
    "c5 = ran.randint(num1, num2)\n",
    "c6 = ran.randint(num1, num2)\n",
    "\n",
    "print(f\"Your secret code that has been generated is: {c1} {c2} {c3} {c4} {c5} {c6}\")"
   ]
  },
  {
   "cell_type": "markdown",
   "metadata": {},
   "source": [
    "4.\n",
    "Write a program to center align below text where number of characters per line is 40:\n",
    "\n",
    "    Hickory, dickory, dock,\n",
    "    The mouse ran up the clock.\n",
    "    The clock struck one,\n",
    "    The mouse ran down,\n",
    "    Hickory, dickory, dock\n",
    "\n",
    "<b>Do not use string's center method! </b>"
   ]
  },
  {
   "cell_type": "code",
   "execution_count": 20,
   "metadata": {},
   "outputs": [
    {
     "name": "stdout",
     "output_type": "stream",
     "text": [
      "         Hickory, dickory, dock,         \n",
      "         The mouse ran up the clock.         \n",
      "         The clock struck one,         \n",
      "         The mouse ran down,         \n",
      "         Hickory, dickory, dock         \n"
     ]
    }
   ],
   "source": [
    "line1 = \"Hickory, dickory, dock,\"\n",
    "line2 = \"The mouse ran up the clock.\"\n",
    "line3 = \"The clock struck one,\"\n",
    "line4 = \"The mouse ran down,\"\n",
    "line5 = \"Hickory, dickory, dock\"\n",
    "\n",
    "MAX_CHAR = 30\n",
    "\n",
    "line1 = line1.strip()\n",
    "diff = MAX_CHAR - len(line1)\n",
    "print(f\"{padding}{line1}{padding}\")\n",
    "line2 = line2.strip()\n",
    "diff = MAX_CHAR - len(line2)\n",
    "print(f\"{padding}{line2}{padding}\")\n",
    "line3 = line3.strip()\n",
    "diff = MAX_CHAR - len(line3)      \n",
    "print(f\"{padding}{line3}{padding}\")\n",
    "line4 = line4.strip()\n",
    "diff = MAX_CHAR - len(line4)\n",
    "print(f\"{padding}{line4}{padding}\")\n",
    "line5 = line5.strip()\n",
    "diff = MAX_CHAR - len(line5)\n",
    "print(f\"{padding}{line5}{padding}\")"
   ]
  },
  {
   "cell_type": "markdown",
   "metadata": {},
   "source": [
    "5. Write a function to calculate the miles per gallon.\n",
    "Get a miles driven and gallons used from a user and call your function to calculate the miles per gallon. "
   ]
  },
  {
   "cell_type": "code",
   "execution_count": 14,
   "metadata": {},
   "outputs": [
    {
     "name": "stdout",
     "output_type": "stream",
     "text": [
      "Enter miles driven: 60\n",
      "Enter gallons of gas used: 5\n",
      "Miles per gallon is: 12.0\n"
     ]
    }
   ],
   "source": [
    "def milesPerGallon(miles, gallons) :\n",
    "    mpg = miles / gallons\n",
    "    return mpg\n",
    "\n",
    "userMiles = int(input(\"Enter miles driven: \"))\n",
    "userGallons = int(input(\"Enter gallons of gas used: \"))\n",
    "\n",
    "mpg = milesPerGallon(userMiles, userGallons)\n",
    "print(f\"Miles per gallon is: {mpg}\")"
   ]
  },
  {
   "cell_type": "code",
   "execution_count": null,
   "metadata": {},
   "outputs": [],
   "source": []
  }
 ],
 "metadata": {
  "kernelspec": {
   "display_name": "Python 3",
   "language": "python",
   "name": "python3"
  },
  "language_info": {
   "codemirror_mode": {
    "name": "ipython",
    "version": 3
   },
   "file_extension": ".py",
   "mimetype": "text/x-python",
   "name": "python",
   "nbconvert_exporter": "python",
   "pygments_lexer": "ipython3",
   "version": "3.8.8"
  }
 },
 "nbformat": 4,
 "nbformat_minor": 4
}
